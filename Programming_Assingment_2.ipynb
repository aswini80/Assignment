{
 "cells": [
  {
   "cell_type": "code",
   "execution_count": 2,
   "metadata": {},
   "outputs": [],
   "source": [
    "# 1. Write a Python program to convert kilometers to miles?"
   ]
  },
  {
   "cell_type": "code",
   "execution_count": 9,
   "metadata": {},
   "outputs": [
    {
     "name": "stdout",
     "output_type": "stream",
     "text": [
      "Enter Kilometer to convert into Miles: - 23.45\n",
      "23.45 kilometers is equal to 14.57 miles\n"
     ]
    }
   ],
   "source": [
    "def kilometer_miles_conert(kilo_meter):\n",
    "    miles = kilo_meter * 0.621371\n",
    "    return (round(miles, 2))\n",
    "\n",
    "kilo_meter = float(input(\"Enter Kilometer to convert into Miles: - \"))\n",
    "ans_miles = kilometer_miles_conert(kilo_meter)\n",
    "print(f\"{kilo_meter} kilometers is equal to {ans_miles} miles\")"
   ]
  },
  {
   "cell_type": "code",
   "execution_count": 6,
   "metadata": {},
   "outputs": [],
   "source": [
    "# 2. Write a Python program to convert Celsius to Fahrenheit?"
   ]
  },
  {
   "cell_type": "code",
   "execution_count": 10,
   "metadata": {},
   "outputs": [
    {
     "name": "stdout",
     "output_type": "stream",
     "text": [
      "Enter Celsius to convert into Fahrenheit:-  23.45\n",
      "23.45 Celsius is equal to 74.21 Fahrenheit\n"
     ]
    }
   ],
   "source": [
    "def celsius_fahrenheit_conert(celsius):\n",
    "    fahrenheit = celsius * (9/5) + 32\n",
    "    return (round(fahrenheit, 2))\n",
    "\n",
    "celsius = float(input(\"Enter Celsius to convert into Fahrenheit:-  \"))\n",
    "ans_fahrenheit = celsius_fahrenheit_conert(celsius)\n",
    "print(f\"{celsius} Celsius is equal to {ans_fahrenheit} Fahrenheit\")"
   ]
  },
  {
   "cell_type": "code",
   "execution_count": 11,
   "metadata": {},
   "outputs": [],
   "source": [
    "# 3. Write a Python program to display calendar?"
   ]
  },
  {
   "cell_type": "code",
   "execution_count": 14,
   "metadata": {},
   "outputs": [
    {
     "name": "stdout",
     "output_type": "stream",
     "text": [
      "enter the year : 2022\n",
      "enter the month: 12\n",
      "   December 2022\n",
      "Mo Tu We Th Fr Sa Su\n",
      "          1  2  3  4\n",
      " 5  6  7  8  9 10 11\n",
      "12 13 14 15 16 17 18\n",
      "19 20 21 22 23 24 25\n",
      "26 27 28 29 30 31\n",
      "\n"
     ]
    }
   ],
   "source": [
    "import calendar\n",
    "year = int(input(\"enter the year : \"))\n",
    "month = int(input(\"enter the month: \"))\n",
    "print(calendar.month(year,month))"
   ]
  },
  {
   "cell_type": "code",
   "execution_count": 15,
   "metadata": {},
   "outputs": [],
   "source": [
    "# 4. Write a Python program to solve quadratic equation?"
   ]
  },
  {
   "cell_type": "code",
   "execution_count": 16,
   "metadata": {},
   "outputs": [],
   "source": [
    "# to solve the quadratic equation (ax**2 + bx + c = 0)\n",
    "# the roots are x1 = -b + ((b**2)-4*a*c)**(1/2)/2*a\n",
    "# the roots are x1 = -b - ((b**2)-4*a*c)**(1/2)/2*a"
   ]
  },
  {
   "cell_type": "code",
   "execution_count": 23,
   "metadata": {},
   "outputs": [
    {
     "name": "stdout",
     "output_type": "stream",
     "text": [
      "enter the value of a: 0\n",
      "enter the value of b: -17\n",
      "enter the value of c: 12\n",
      "enter the value of a, a nonzero number\n",
      "enter the value of a: 5\n",
      "the roots of the quadratic equation are: 2.4 and 1.0\n"
     ]
    }
   ],
   "source": [
    "import math\n",
    "a = int(input(\"enter the value of a: \"))\n",
    "b = int(input(\"enter the value of b: \"))\n",
    "c = int(input(\"enter the value of c: \"))\n",
    "\n",
    "if a == 0:\n",
    "    print(\"enter the value of a, a nonzero number\")\n",
    "    a = int(input(\"enter the value of a: \"))\n",
    "d = (b**2)-4*a*c)\n",
    "\n",
    "if d > 0:\n",
    "    print(\"the roots are real and distinct\")\n",
    "elif d == 0:\n",
    "    print(\"the roots are real and equal\")\n",
    "else:\n",
    "    print(\"the roots does not exist or imaginary\")\n",
    "    \n",
    "if d >= 0:\n",
    "    x1 = (-b + math.sqrt(d)/(2*a)\n",
    "    x2 = (-b - math.sqrt(d)/(2*a)\n",
    "\n",
    "          \n",
    "print(f\"the roots of the quadratic equation are: {round(x1,2)} and {round(x2,2)}\")"
   ]
  },
  {
   "cell_type": "code",
   "execution_count": 24,
   "metadata": {},
   "outputs": [],
   "source": [
    "# 5. Write a Python program to swap two variables without temp variable?"
   ]
  },
  {
   "cell_type": "code",
   "execution_count": 29,
   "metadata": {},
   "outputs": [
    {
     "name": "stdout",
     "output_type": "stream",
     "text": [
      "the inial value of a is 23, b is 56\n",
      "the value of a is 56, the value of b is 23\n"
     ]
    }
   ],
   "source": [
    "a = 23\n",
    "b = 56\n",
    "print(f\"the inial value of a is {a}, b is {b}\")\n",
    "a, b = b, a\n",
    "print(f\"the value of a is {a}, the value of b is {b}\")"
   ]
  },
  {
   "cell_type": "code",
   "execution_count": null,
   "metadata": {},
   "outputs": [],
   "source": []
  }
 ],
 "metadata": {
  "kernelspec": {
   "display_name": "Python 3",
   "language": "python",
   "name": "python3"
  },
  "language_info": {
   "codemirror_mode": {
    "name": "ipython",
    "version": 3
   },
   "file_extension": ".py",
   "mimetype": "text/x-python",
   "name": "python",
   "nbconvert_exporter": "python",
   "pygments_lexer": "ipython3",
   "version": "3.8.3"
  }
 },
 "nbformat": 4,
 "nbformat_minor": 4
}
